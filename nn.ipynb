{
 "cells": [
  {
   "cell_type": "code",
   "execution_count": 10,
   "id": "bdcc0111",
   "metadata": {},
   "outputs": [],
   "source": [
    "import torch\n",
    "from torch import nn\n",
    "from torch.utils.data import DataLoader\n",
    "from torchvision import datasets, transforms\n",
    "from torchvision.transforms.v2 import ToImage, ToDtype\n",
    "\n",
    "from matplotlib import pyplot as plt\n",
    "import numpy as np\n",
    "import time"
   ]
  },
  {
   "cell_type": "code",
   "execution_count": 11,
   "id": "3e14a299",
   "metadata": {},
   "outputs": [
    {
     "name": "stdout",
     "output_type": "stream",
     "text": [
      "True NVIDIA GeForce RTX 4060\n"
     ]
    }
   ],
   "source": [
    "print(torch.cuda.is_available(), torch.cuda.get_device_name())"
   ]
  },
  {
   "cell_type": "code",
   "execution_count": 12,
   "id": "7fca8fc3",
   "metadata": {},
   "outputs": [],
   "source": [
    "transforms = transforms.Compose([\n",
    "    ToImage(),\n",
    "    ToDtype(torch.float32, scale=True)\n",
    "])"
   ]
  },
  {
   "cell_type": "code",
   "execution_count": 13,
   "id": "27b08d86",
   "metadata": {},
   "outputs": [],
   "source": [
    "trainD = datasets.CIFAR10(root=\"data\", train=True, transform=transforms, download=True)\n",
    "testD = datasets.CIFAR10(root=\"data\", train=False, transform=transforms, download=True)"
   ]
  },
  {
   "cell_type": "code",
   "execution_count": 14,
   "id": "7ed899cd",
   "metadata": {},
   "outputs": [
    {
     "name": "stdout",
     "output_type": "stream",
     "text": [
      "2 torch.Size([3, 32, 32]) <class 'torchvision.tv_tensors._image.Image'>\n"
     ]
    },
    {
     "data": {
      "image/png": "[encoded data removed]",
      "text/plain": [
       "<Figure size 640x480 with 1 Axes>"
      ]
     },
     "metadata": {},
     "output_type": "display_data"
    }
   ],
   "source": [
    "x, label = trainD[np.random.randint(len(trainD))] # 32x32 PIL image, label\n",
    "plt.imshow(x.permute(1, 2, 0))\n",
    "print(label, x.size(), type(x))"
   ]
  },
  {
   "cell_type": "code",
   "execution_count": 15,
   "id": "fa046e71",
   "metadata": {},
   "outputs": [],
   "source": [
    "BATCH_SIZE = 256\n",
    "DEVICE = torch.accelerator.current_accelerator()\n",
    "\n",
    "trainDL = DataLoader(trainD, batch_size=BATCH_SIZE, shuffle=True, num_workers=8, pin_memory=True)\n",
    "testDL = DataLoader(testD, batch_size=BATCH_SIZE, shuffle=False, num_workers=8, pin_memory=True)"
   ]
  },
  {
   "cell_type": "code",
   "execution_count": 16,
   "id": "6daaf9ba",
   "metadata": {},
   "outputs": [],
   "source": [
    "class Cifar(nn.Module):\n",
    "  def __init__(self):\n",
    "    super().__init__()\n",
    "    self.labels = {\n",
    "                    0: \"airplane\",  \n",
    "                    1: \"automobile\", \n",
    "                    2: \"bird\",\n",
    "                    3: \"cat\",\n",
    "                    4: \"deer\",\n",
    "                    5: \"dog\",\n",
    "                    6: \"frog\",\n",
    "                    7: \"horse\",\n",
    "                    8: \"ship\",\n",
    "                    9: \"truck\"\n",
    "                  }\n",
    "    self.model = nn.Sequential(\n",
    "      nn.Conv2d(3, 32, 3, padding=1), # 32x32x48\n",
    "      nn.ReLU(),\n",
    "\n",
    "      nn.Conv2d(32, 64, 5), # 28x28x64\n",
    "      nn.ReLU(),\n",
    "      nn.MaxPool2d(2, 2), # 14x14x64\n",
    "\n",
    "      nn.Conv2d(64, 126, 7), # 8x8x126\n",
    "      nn.ReLU(),\n",
    "      nn.MaxPool2d(2, 2), # 4x4x126\n",
    "\n",
    "      nn.Flatten(),\n",
    "      nn.Linear(2016, 512),\n",
    "      nn.ReLU(),\n",
    "      nn.Dropout(0.2),\n",
    "\n",
    "      nn.Linear(512, 10)\n",
    "    )\n",
    "\n",
    "  def forward(self, x):\n",
    "    logits = self.model(x)\n",
    "    return logits"
   ]
  },
  {
   "cell_type": "code",
   "execution_count": 50,
   "id": "3b256eb5",
   "metadata": {},
   "outputs": [],
   "source": [
    "def train(dataloader, model, loss_fn, optimizer):\n",
    "  model.train()\n",
    "  \n",
    "  for batch_i, (X, y) in enumerate(dataloader):\n",
    "    X, y = X.to(DEVICE), y.to(DEVICE)\n",
    "    # get predictions\n",
    "    preds = model(X)\n",
    "    # calculate loss\n",
    "    loss = loss_fn(preds, y)\n",
    "    # backprop\n",
    "    loss.backward()\n",
    "    # gradient descent \n",
    "    optimizer.step()    \n",
    "    optimizer.zero_grad()\n",
    "\n",
    "    if (batch_i % 50 < 1) or (batch_i == len(dataloader) - 1):\n",
    "      print(f\"Batch {batch_i+1}/{len(dataloader)}, Loss: {loss.item():.4f}\")\n",
    "\n",
    "\n",
    "def test(dataloader, model, loss_fn):\n",
    "  model.eval()\n",
    "  loss_t = correct = 0\n",
    "  size, num_batches = len(dataloader.dataset), len(dataloader)\n",
    "  \n",
    "  # run through testing data\n",
    "  with torch.no_grad():\n",
    "    for batch_i, (X, y) in enumerate(dataloader):\n",
    "      X, y = X.to(DEVICE), y.to(DEVICE)\n",
    "\n",
    "      # get model preds\n",
    "      preds = model(X)\n",
    "      loss_t += loss_fn(preds, y).item()\n",
    "      correct += (preds.argmax(dim=1) == y).type(torch.float).sum().item()\n",
    "    \n",
    "  # calculate average loss & accuracy\n",
    "  avg_loss = loss_t / num_batches  \n",
    "  accuracy = correct / size * 100\n",
    "\n",
    "  print(f\"TEST, Accuracy: {accuracy:.2f}%, Loss: {avg_loss:.4f}\")\n",
    "\n",
    "  return accuracy, avg_loss\n",
    "  \n",
    "\n",
    "def fit(model, epochs: int):\n",
    "\n",
    "  optimizer = torch.optim.Adam(model.parameters(), lr=1e-3, weight_decay=1e-4)\n",
    "  loss_fn = torch.nn.CrossEntropyLoss()\n",
    "\n",
    "  accuracies, losses = [], []\n",
    "\n",
    "  print(\"Starting...\")\n",
    "  for epoch in range(epochs):\n",
    "    print(\"\\nEpoch\", epoch+1)\n",
    "\n",
    "    train(trainDL, model, loss_fn, optimizer)\n",
    "    acc, loss = test(testDL, model, loss_fn )\n",
    "\n",
    "    accuracies.append(acc)\n",
    "    losses.append(loss)\n",
    "\n",
    "  torch.save(model.state_dict(), \"model_weights.pth\")\n",
    "  print(\"Done!\\n Weights saved to 'model_weights.pth'\")\n",
    "  return accuracies, losses\n"
   ]
  },
  {
   "cell_type": "code",
   "execution_count": 51,
   "id": "6db18247",
   "metadata": {},
   "outputs": [
    {
     "name": "stdout",
     "output_type": "stream",
     "text": [
      "Starting...\n",
      "\n",
      "Epoch 1\n",
      "Batch 1/196, Loss: 2.3038\n",
      "Batch 51/196, Loss: 1.8193\n",
      "Batch 101/196, Loss: 1.6122\n",
      "Batch 151/196, Loss: 1.4829\n",
      "Batch 196/196, Loss: 1.3731\n",
      "TEST, Accuracy: 50.08%, Loss: 1.3686\n",
      "\n",
      "Epoch 2\n",
      "Batch 1/196, Loss: 1.3167\n",
      "Batch 51/196, Loss: 1.3952\n",
      "Batch 101/196, Loss: 1.2075\n",
      "Batch 151/196, Loss: 1.2356\n",
      "Batch 196/196, Loss: 1.2016\n",
      "TEST, Accuracy: 57.18%, Loss: 1.1915\n",
      "\n",
      "Epoch 3\n",
      "Batch 1/196, Loss: 1.2227\n",
      "Batch 51/196, Loss: 1.0530\n",
      "Batch 101/196, Loss: 1.0720\n",
      "Batch 151/196, Loss: 1.0911\n",
      "Batch 196/196, Loss: 0.9398\n",
      "TEST, Accuracy: 62.20%, Loss: 1.0617\n",
      "\n",
      "Epoch 4\n",
      "Batch 1/196, Loss: 0.9658\n",
      "Batch 51/196, Loss: 1.0919\n",
      "Batch 101/196, Loss: 0.9804\n",
      "Batch 151/196, Loss: 0.8395\n",
      "Batch 196/196, Loss: 0.9599\n",
      "TEST, Accuracy: 65.26%, Loss: 0.9900\n",
      "\n",
      "Epoch 5\n",
      "Batch 1/196, Loss: 0.9201\n",
      "Batch 51/196, Loss: 0.8889\n",
      "Batch 101/196, Loss: 0.9119\n",
      "Batch 151/196, Loss: 0.8751\n",
      "Batch 196/196, Loss: 0.9535\n",
      "TEST, Accuracy: 68.32%, Loss: 0.9023\n",
      "\n",
      "Epoch 6\n",
      "Batch 1/196, Loss: 0.8260\n",
      "Batch 51/196, Loss: 0.7953\n",
      "Batch 101/196, Loss: 0.8826\n",
      "Batch 151/196, Loss: 0.8348\n",
      "Batch 196/196, Loss: 0.7264\n",
      "TEST, Accuracy: 68.87%, Loss: 0.8935\n",
      "\n",
      "Epoch 7\n",
      "Batch 1/196, Loss: 0.7178\n",
      "Batch 51/196, Loss: 0.7540\n",
      "Batch 101/196, Loss: 0.7617\n",
      "Batch 151/196, Loss: 0.7473\n",
      "Batch 196/196, Loss: 0.6115\n",
      "TEST, Accuracy: 70.32%, Loss: 0.8558\n",
      "\n",
      "Epoch 8\n",
      "Batch 1/196, Loss: 0.6028\n",
      "Batch 51/196, Loss: 0.6706\n",
      "Batch 101/196, Loss: 0.8712\n",
      "Batch 151/196, Loss: 0.8165\n",
      "Batch 196/196, Loss: 0.5995\n",
      "TEST, Accuracy: 72.52%, Loss: 0.7955\n",
      "\n",
      "Epoch 9\n",
      "Batch 1/196, Loss: 0.5817\n",
      "Batch 51/196, Loss: 0.5996\n",
      "Batch 101/196, Loss: 0.6914\n",
      "Batch 151/196, Loss: 0.8090\n",
      "Batch 196/196, Loss: 0.8046\n",
      "TEST, Accuracy: 73.03%, Loss: 0.7931\n",
      "\n",
      "Epoch 10\n",
      "Batch 1/196, Loss: 0.4631\n",
      "Batch 51/196, Loss: 0.5274\n",
      "Batch 101/196, Loss: 0.5666\n",
      "Batch 151/196, Loss: 0.5751\n",
      "Batch 196/196, Loss: 0.5492\n",
      "TEST, Accuracy: 72.82%, Loss: 0.7915\n",
      "Done!\n",
      " Weights saved to 'model_weights.pth'\n"
     ]
    }
   ],
   "source": [
    "EPOCHS = 10\n",
    "model = Cifar().to(DEVICE)\n",
    "\n",
    "acc, loss = fit(model, EPOCHS)\n"
   ]
  },
  {
   "cell_type": "code",
   "execution_count": 52,
   "id": "1744b8e7",
   "metadata": {},
   "outputs": [
    {
     "data": {
      "image/png": "[encoded data removed]",
      "text/plain": [
       "<Figure size 640x480 with 2 Axes>"
      ]
     },
     "metadata": {},
     "output_type": "display_data"
    }
   ],
   "source": [
    "fig, (ax1, ax2) = plt.subplots(2)\n",
    "fig.suptitle(\"Performance\")\n",
    "\n",
    "epochs = range(1, EPOCHS+1)\n",
    "\n",
    "ax1.plot(epochs, acc)\n",
    "ax1.set_title(\"Accuracy\")\n",
    "\n",
    "ax2.plot(epochs, loss)\n",
    "ax2.set_title(\"Loss\")\n",
    "plt.savefig(f\"performance_{int(time.time())}\")"
   ]
  },
  {
   "cell_type": "code",
   "execution_count": 56,
   "id": "0c060401",
   "metadata": {},
   "outputs": [],
   "source": [
    "def predict(model):\n",
    "  model.eval()\n",
    "\n",
    "  X, label = testD[np.random.randint(len(testD))] # 32x32 PIL image, label\n",
    "  plt.imshow(X.permute(1, 2, 0))\n",
    "  X = X.unsqueeze(0).to(DEVICE)\n",
    "  \n",
    "  with torch.no_grad():\n",
    "    pred = model(X).argmax(dim=1).item()\n",
    "\n",
    "  print(f\"Prediction: {model.labels[pred]} ({pred}), Truth: {model.labels[label]} ({label})\") \n"
   ]
  },
  {
   "cell_type": "code",
   "execution_count": 63,
   "id": "2c004a54",
   "metadata": {},
   "outputs": [
    {
     "name": "stdout",
     "output_type": "stream",
     "text": [
      "Prediction: airplane (0), Truth: airplane (0)\n"
     ]
    },
    {
     "data": {
      "image/png": "[encoded data removed]",
      "text/plain": [
       "<Figure size 640x480 with 1 Axes>"
      ]
     },
     "metadata": {},
     "output_type": "display_data"
    }
   ],
   "source": [
    "predict(model)"
   ]
  },
  {
   "cell_type": "code",
   "execution_count": null,
   "id": "223d1f6a",
   "metadata": {},
   "outputs": [],
   "source": []
  }
 ],
 "metadata": {
  "kernelspec": {
   "display_name": "Python 3",
   "language": "python",
   "name": "python3"
  },
  "language_info": {
   "codemirror_mode": {
    "name": "ipython",
    "version": 3
   },
   "file_extension": ".py",
   "mimetype": "text/x-python",
   "name": "python",
   "nbconvert_exporter": "python",
   "pygments_lexer": "ipython3",
   "version": "3.10.12"
  }
 },
 "nbformat": 4,
 "nbformat_minor": 5
}
