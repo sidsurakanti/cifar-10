{
 "cells": [
  {
   "cell_type": "code",
   "execution_count": 1,
   "id": "bdcc0111",
   "metadata": {},
   "outputs": [],
   "source": [
    "import torch\n",
    "from torch import nn\n",
    "from torch.utils.data import DataLoader\n",
    "from torchvision import datasets, transforms\n",
    "from torchvision.transforms.v2 import ToImage, ToDtype, Normalize\n",
    "\n",
    "from matplotlib import pyplot as plt\n",
    "import numpy as np\n",
    "import time"
   ]
  },
  {
   "cell_type": "code",
   "execution_count": 2,
   "id": "3e14a299",
   "metadata": {},
   "outputs": [
    {
     "name": "stdout",
     "output_type": "stream",
     "text": [
      "True NVIDIA GeForce RTX 4060\n"
     ]
    }
   ],
   "source": [
    "print(torch.cuda.is_available(), torch.cuda.get_device_name())"
   ]
  },
  {
   "cell_type": "code",
   "execution_count": 3,
   "id": "7fca8fc3",
   "metadata": {},
   "outputs": [],
   "source": [
    "transforms = transforms.Compose([\n",
    "    ToImage(),\n",
    "    ToDtype(torch.float32, scale=True),\n",
    "    Normalize((0.5, 0.5, 0.5), (0.5, 0.5, 0.5))\n",
    "])"
   ]
  },
  {
   "cell_type": "code",
   "execution_count": 4,
   "id": "27b08d86",
   "metadata": {},
   "outputs": [],
   "source": [
    "trainD = datasets.CIFAR10(root=\"data\", train=True, transform=transforms, download=True)\n",
    "testD = datasets.CIFAR10(root=\"data\", train=False, transform=transforms, download=True)"
   ]
  },
  {
   "cell_type": "code",
   "execution_count": 5,
   "id": "7ed899cd",
   "metadata": {},
   "outputs": [
    {
     "name": "stderr",
     "output_type": "stream",
     "text": [
      "Clipping input data to the valid range for imshow with RGB data ([0..1] for floats or [0..255] for integers). Got range [-1.0..0.6784315].\n"
     ]
    },
    {
     "name": "stdout",
     "output_type": "stream",
     "text": [
      "5 torch.Size([3, 32, 32]) <class 'torchvision.tv_tensors._image.Image'>\n"
     ]
    },
    {
     "data": {
      "image/png": "[encoded data removed]",
      "text/plain": [
       "<Figure size 640x480 with 1 Axes>"
      ]
     },
     "metadata": {},
     "output_type": "display_data"
    }
   ],
   "source": [
    "x, label = trainD[np.random.randint(len(trainD))] # 32x32 PIL image, label\n",
    "plt.imshow(x.permute(1, 2, 0))\n",
    "print(label, x.size(), type(x))"
   ]
  },
  {
   "cell_type": "code",
   "execution_count": 6,
   "id": "fa046e71",
   "metadata": {},
   "outputs": [],
   "source": [
    "BATCH_SIZE = 256\n",
    "DEVICE = torch.accelerator.current_accelerator()\n",
    "\n",
    "trainDL = DataLoader(trainD, batch_size=BATCH_SIZE, shuffle=True, num_workers=8, pin_memory=True)\n",
    "testDL = DataLoader(testD, batch_size=BATCH_SIZE, shuffle=False, num_workers=8, pin_memory=True)"
   ]
  },
  {
   "cell_type": "code",
   "execution_count": 7,
   "id": "6daaf9ba",
   "metadata": {},
   "outputs": [],
   "source": [
    "class Cifar(nn.Module):\n",
    "  def __init__(self):\n",
    "    super().__init__()\n",
    "    self.labels = {\n",
    "                    0: \"airplane\",  \n",
    "                    1: \"automobile\", \n",
    "                    2: \"bird\",\n",
    "                    3: \"cat\",\n",
    "                    4: \"deer\",\n",
    "                    5: \"dog\",\n",
    "                    6: \"frog\",\n",
    "                    7: \"horse\",\n",
    "                    8: \"ship\",\n",
    "                    9: \"truck\"\n",
    "                  }\n",
    "    self.model = nn.Sequential(\n",
    "      nn.Conv2d(3, 32, 3, padding=1), # 32x32x32\n",
    "      nn.ReLU(),\n",
    "\n",
    "      nn.Conv2d(32, 64, 3), # 29x29x64\n",
    "      nn.ReLU(),\n",
    "      nn.MaxPool2d(2, 2), # 14x14x64\n",
    "\n",
    "      nn.Conv2d(64, 128, 3, padding=1), # 14x14x128\n",
    "      nn.ReLU(),\n",
    "\n",
    "      nn.Conv2d(128, 216, 5), # 10x10x216 \n",
    "      nn.ReLU(),\n",
    "      nn.MaxPool2d(2, 2), # 5x5x216\n",
    "\n",
    "      nn.Flatten(),\n",
    "      nn.Linear(5*5*216, 512),\n",
    "      nn.ReLU(),\n",
    "      nn.Dropout(0.3),\n",
    "\n",
    "      nn.Linear(512, 10)\n",
    "    )\n",
    "\n",
    "  def forward(self, x):\n",
    "    logits = self.model(x)\n",
    "    return logits"
   ]
  },
  {
   "cell_type": "code",
   "execution_count": 8,
   "id": "3b256eb5",
   "metadata": {},
   "outputs": [],
   "source": [
    "def train(dataloader, model, loss_fn, optimizer):\n",
    "  model.train()\n",
    "  \n",
    "  for batch_i, (X, y) in enumerate(dataloader):\n",
    "    X, y = X.to(DEVICE), y.to(DEVICE)\n",
    "    # get predictions\n",
    "    preds = model(X)\n",
    "    # calculate loss\n",
    "    loss = loss_fn(preds, y)\n",
    "    # backprop\n",
    "    loss.backward()\n",
    "    # gradient descent \n",
    "    optimizer.step()    \n",
    "    optimizer.zero_grad()\n",
    "\n",
    "    if (batch_i % 50 < 1) or (batch_i == len(dataloader) - 1):\n",
    "      print(f\"Batch {batch_i+1}/{len(dataloader)}, Loss: {loss.item():.4f}\")\n",
    "\n",
    "\n",
    "def test(dataloader, model, loss_fn):\n",
    "  model.eval()\n",
    "  loss_t = correct = 0\n",
    "  size, num_batches = len(dataloader.dataset), len(dataloader)\n",
    "  \n",
    "  # run through testing data\n",
    "  with torch.no_grad():\n",
    "    for batch_i, (X, y) in enumerate(dataloader):\n",
    "      X, y = X.to(DEVICE), y.to(DEVICE)\n",
    "\n",
    "      # get model preds\n",
    "      preds = model(X)\n",
    "      loss_t += loss_fn(preds, y).item()\n",
    "      correct += (preds.argmax(dim=1) == y).type(torch.float).sum().item()\n",
    "    \n",
    "  # calculate average loss & accuracy\n",
    "  avg_loss = loss_t / num_batches  \n",
    "  accuracy = correct / size * 100\n",
    "\n",
    "  print(f\"TEST, Accuracy: {accuracy:.2f}%, Loss: {avg_loss:.4f}\")\n",
    "\n",
    "  return accuracy, avg_loss\n",
    "  \n",
    "\n",
    "def fit(model, epochs: int):\n",
    "\n",
    "  optimizer = torch.optim.Adam(model.parameters(), lr=3e-4, weight_decay=1e-4)\n",
    "  loss_fn = torch.nn.CrossEntropyLoss()\n",
    "\n",
    "  accuracies, losses = [], []\n",
    "\n",
    "  print(\"Starting...\")\n",
    "  for epoch in range(epochs):\n",
    "    print(\"\\nEpoch\", epoch+1)\n",
    "\n",
    "    train(trainDL, model, loss_fn, optimizer)\n",
    "    acc, loss = test(testDL, model, loss_fn )\n",
    "\n",
    "    accuracies.append(acc)\n",
    "    losses.append(loss)\n",
    "\n",
    "  torch.save(model.state_dict(), \"model_weights.pth\")\n",
    "  print(\"Done!\\n Weights saved to 'model_weights.pth'\")\n",
    "  return accuracies, losses\n"
   ]
  },
  {
   "cell_type": "code",
   "execution_count": 9,
   "id": "6db18247",
   "metadata": {},
   "outputs": [
    {
     "name": "stdout",
     "output_type": "stream",
     "text": [
      "Starting...\n",
      "\n",
      "Epoch 1\n",
      "Batch 1/196, Loss: 2.3033\n",
      "Batch 51/196, Loss: 1.7964\n",
      "Batch 101/196, Loss: 1.5058\n",
      "Batch 151/196, Loss: 1.4348\n",
      "Batch 196/196, Loss: 1.5148\n",
      "TEST, Accuracy: 49.51%, Loss: 1.3774\n",
      "\n",
      "Epoch 2\n",
      "Batch 1/196, Loss: 1.3744\n",
      "Batch 51/196, Loss: 1.2710\n",
      "Batch 101/196, Loss: 1.4259\n",
      "Batch 151/196, Loss: 1.4852\n",
      "Batch 196/196, Loss: 1.3731\n",
      "TEST, Accuracy: 56.79%, Loss: 1.2004\n",
      "\n",
      "Epoch 3\n",
      "Batch 1/196, Loss: 1.2423\n",
      "Batch 51/196, Loss: 1.1540\n",
      "Batch 101/196, Loss: 1.1223\n",
      "Batch 151/196, Loss: 1.0386\n",
      "Batch 196/196, Loss: 1.2690\n",
      "TEST, Accuracy: 59.83%, Loss: 1.1096\n",
      "\n",
      "Epoch 4\n",
      "Batch 1/196, Loss: 1.1923\n",
      "Batch 51/196, Loss: 1.0484\n",
      "Batch 101/196, Loss: 0.9761\n",
      "Batch 151/196, Loss: 0.9978\n",
      "Batch 196/196, Loss: 1.0292\n",
      "TEST, Accuracy: 64.76%, Loss: 0.9920\n",
      "\n",
      "Epoch 5\n",
      "Batch 1/196, Loss: 1.0452\n",
      "Batch 51/196, Loss: 0.9724\n",
      "Batch 101/196, Loss: 0.8204\n",
      "Batch 151/196, Loss: 0.8554\n",
      "Batch 196/196, Loss: 0.9488\n",
      "TEST, Accuracy: 68.33%, Loss: 0.8974\n",
      "\n",
      "Epoch 6\n",
      "Batch 1/196, Loss: 0.8592\n",
      "Batch 51/196, Loss: 0.8166\n",
      "Batch 101/196, Loss: 0.9357\n",
      "Batch 151/196, Loss: 0.8712\n",
      "Batch 196/196, Loss: 0.7414\n",
      "TEST, Accuracy: 69.34%, Loss: 0.8646\n",
      "\n",
      "Epoch 7\n",
      "Batch 1/196, Loss: 0.7567\n",
      "Batch 51/196, Loss: 0.7911\n",
      "Batch 101/196, Loss: 0.8104\n",
      "Batch 151/196, Loss: 0.7305\n",
      "Batch 196/196, Loss: 0.8867\n",
      "TEST, Accuracy: 71.71%, Loss: 0.8091\n",
      "\n",
      "Epoch 8\n",
      "Batch 1/196, Loss: 0.6694\n",
      "Batch 51/196, Loss: 0.6691\n",
      "Batch 101/196, Loss: 0.5631\n",
      "Batch 151/196, Loss: 0.6886\n",
      "Batch 196/196, Loss: 0.7159\n",
      "TEST, Accuracy: 72.57%, Loss: 0.7865\n",
      "\n",
      "Epoch 9\n",
      "Batch 1/196, Loss: 0.5887\n",
      "Batch 51/196, Loss: 0.6887\n",
      "Batch 101/196, Loss: 0.6266\n",
      "Batch 151/196, Loss: 0.7640\n",
      "Batch 196/196, Loss: 0.5177\n",
      "TEST, Accuracy: 74.02%, Loss: 0.7527\n",
      "\n",
      "Epoch 10\n",
      "Batch 1/196, Loss: 0.5747\n",
      "Batch 51/196, Loss: 0.4898\n",
      "Batch 101/196, Loss: 0.5891\n",
      "Batch 151/196, Loss: 0.5882\n",
      "Batch 196/196, Loss: 0.4192\n",
      "TEST, Accuracy: 75.41%, Loss: 0.7166\n",
      "\n",
      "Epoch 11\n",
      "Batch 1/196, Loss: 0.5703\n",
      "Batch 51/196, Loss: 0.5808\n",
      "Batch 101/196, Loss: 0.5764\n",
      "Batch 151/196, Loss: 0.7029\n",
      "Batch 196/196, Loss: 0.6172\n",
      "TEST, Accuracy: 75.37%, Loss: 0.7174\n",
      "\n",
      "Epoch 12\n",
      "Batch 1/196, Loss: 0.4519\n",
      "Batch 51/196, Loss: 0.4305\n",
      "Batch 101/196, Loss: 0.5372\n",
      "Batch 151/196, Loss: 0.4999\n",
      "Batch 196/196, Loss: 0.4415\n",
      "TEST, Accuracy: 75.59%, Loss: 0.7102\n",
      "\n",
      "Epoch 13\n",
      "Batch 1/196, Loss: 0.4343\n",
      "Batch 51/196, Loss: 0.3711\n",
      "Batch 101/196, Loss: 0.3962\n",
      "Batch 151/196, Loss: 0.4419\n",
      "Batch 196/196, Loss: 0.4487\n",
      "TEST, Accuracy: 75.55%, Loss: 0.7149\n",
      "\n",
      "Epoch 14\n",
      "Batch 1/196, Loss: 0.3742\n",
      "Batch 51/196, Loss: 0.4901\n",
      "Batch 101/196, Loss: 0.3253\n",
      "Batch 151/196, Loss: 0.4005\n",
      "Batch 196/196, Loss: 0.3727\n",
      "TEST, Accuracy: 76.60%, Loss: 0.7279\n",
      "\n",
      "Epoch 15\n",
      "Batch 1/196, Loss: 0.3195\n",
      "Batch 51/196, Loss: 0.3781\n",
      "Batch 101/196, Loss: 0.3267\n",
      "Batch 151/196, Loss: 0.3852\n",
      "Batch 196/196, Loss: 0.3049\n",
      "TEST, Accuracy: 77.00%, Loss: 0.7144\n",
      "Done!\n",
      " Weights saved to 'model_weights.pth'\n"
     ]
    }
   ],
   "source": [
    "EPOCHS = 15\n",
    "model = Cifar().to(DEVICE)\n",
    "\n",
    "acc, loss = fit(model, EPOCHS)\n"
   ]
  },
  {
   "cell_type": "code",
   "execution_count": 10,
   "id": "1744b8e7",
   "metadata": {},
   "outputs": [
    {
     "data": {
      "image/png": "[encoded data removed]",
      "text/plain": [
       "<Figure size 640x480 with 2 Axes>"
      ]
     },
     "metadata": {},
     "output_type": "display_data"
    }
   ],
   "source": [
    "fig, (ax1, ax2) = plt.subplots(2)\n",
    "fig.suptitle(\"Performance\")\n",
    "\n",
    "epochs = range(1, EPOCHS+1)\n",
    "\n",
    "ax1.plot(epochs, acc)\n",
    "ax1.set_title(\"Accuracy\")\n",
    "\n",
    "ax2.plot(epochs, loss)\n",
    "ax2.set_title(\"Loss\")\n",
    "plt.savefig(f\"performance_{int(time.time())}\")"
   ]
  },
  {
   "cell_type": "code",
   "execution_count": 11,
   "id": "0c060401",
   "metadata": {},
   "outputs": [],
   "source": [
    "def predict(model):\n",
    "  model.eval()\n",
    "\n",
    "  X, label = testD[np.random.randint(len(testD))] # 32x32 PIL image, label\n",
    "  plt.imshow(X.permute(1, 2, 0))\n",
    "  X = X.unsqueeze(0).to(DEVICE)\n",
    "  \n",
    "  with torch.no_grad():\n",
    "    pred = model(X).argmax(dim=1).item()\n",
    "\n",
    "  print(f\"Prediction: {model.labels[pred]} ({pred}), Truth: {model.labels[label]} ({label})\") \n"
   ]
  },
  {
   "cell_type": "code",
   "execution_count": 12,
   "id": "2c004a54",
   "metadata": {},
   "outputs": [
    {
     "name": "stderr",
     "output_type": "stream",
     "text": [
      "Clipping input data to the valid range for imshow with RGB data ([0..1] for floats or [0..255] for integers). Got range [-0.8745098..0.8901962].\n"
     ]
    },
    {
     "name": "stdout",
     "output_type": "stream",
     "text": [
      "Prediction: ship (8), Truth: ship (8)\n"
     ]
    },
    {
     "data": {
      "image/png": "[encoded data removed]",
      "text/plain": [
       "<Figure size 640x480 with 1 Axes>"
      ]
     },
     "metadata": {},
     "output_type": "display_data"
    }
   ],
   "source": [
    "predict(model)"
   ]
  }
 ],
 "metadata": {
  "kernelspec": {
   "display_name": "Python 3",
   "language": "python",
   "name": "python3"
  },
  "language_info": {
   "codemirror_mode": {
    "name": "ipython",
    "version": 3
   },
   "file_extension": ".py",
   "mimetype": "text/x-python",
   "name": "python",
   "nbconvert_exporter": "python",
   "pygments_lexer": "ipython3",
   "version": "3.10.12"
  }
 },
 "nbformat": 4,
 "nbformat_minor": 5
}
